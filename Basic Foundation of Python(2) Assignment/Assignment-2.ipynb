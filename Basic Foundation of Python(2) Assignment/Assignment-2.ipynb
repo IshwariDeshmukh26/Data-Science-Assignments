{
 "cells": [
  {
   "cell_type": "markdown",
   "id": "772a8865-3844-4bf0-b6c1-e10b9a240658",
   "metadata": {},
   "source": [
    " 1.Write a program to reverse the order of list"
   ]
  },
  {
   "cell_type": "code",
   "execution_count": 7,
   "id": "6169da40-361d-47de-bfe7-bf6f804d3341",
   "metadata": {},
   "outputs": [
    {
     "name": "stdout",
     "output_type": "stream",
     "text": [
      "[5, 4, 3, 2, 1]\n"
     ]
    }
   ],
   "source": [
    "# Function to reverse a list\n",
    "def reverse_list(lst):\n",
    "    return lst[::-1]# Slicing method to reverse the list\n",
    "\n",
    "# Define a list\n",
    "my_list = [1,2,3,4,5]\n",
    "\n",
    "# Call the function to reverse the list\n",
    "reversed_list = reverse_list(my_list)\n",
    "\n",
    "# Print the reversed list\n",
    "print(reversed_list)\n"
   ]
  },
  {
   "cell_type": "markdown",
   "id": "4279f110-9138-4a43-aa45-3148dc16b2b1",
   "metadata": {},
   "source": [
    " 2.Write a program to check number of occurrences of specified elements in the list"
   ]
  },
  {
   "cell_type": "code",
   "execution_count": 8,
   "id": "5a56023b-4d92-4ff8-bc7f-cdd6cc6f64c5",
   "metadata": {},
   "outputs": [
    {
     "name": "stdout",
     "output_type": "stream",
     "text": [
      "3\n"
     ]
    }
   ],
   "source": [
    "#Function to count the occurrences of an element in a list\n",
    "def count_occurance(list,element):\n",
    "    # Use the count() method to get the frequency of the element\n",
    "    return list.count(element)\n",
    "\n",
    "# Define the list and the element to count\n",
    "list = [3,2,4,5,6,2,4,2]\n",
    "element = 2\n",
    "\n",
    "# Call the function and store the result\n",
    "occurance_count = count_occurance(list,element)\n",
    "\n",
    "# Print the occurrence count\n",
    "print(occurance_count)"
   ]
  },
  {
   "cell_type": "markdown",
   "id": "5a6d5894-9e2a-4301-8e6b-d3789100611e",
   "metadata": {},
   "source": [
    "3.Write program to append the list1 with list2 in the front"
   ]
  },
  {
   "cell_type": "code",
   "execution_count": 4,
   "id": "0ed1e639-cb51-42e5-98dc-49c1389dc6c3",
   "metadata": {},
   "outputs": [
    {
     "name": "stdout",
     "output_type": "stream",
     "text": [
      "[1, 2, 'one', 'Two', 3, 4, 'Three', 'Four']\n"
     ]
    }
   ],
   "source": [
    "#Define List1\n",
    "list1 = [1,2,\"one\",\"Two\"]\n",
    "\n",
    "#Define List2\n",
    "list2 = [3,4,\"Three\",\"Four\"]\n",
    "\n",
    "## Concatenate both lists\n",
    "result = list1 + list2\n",
    "\n",
    "#Print the concatenated list\n",
    "print(result)"
   ]
  },
  {
   "cell_type": "markdown",
   "id": "1c2f1a63-c767-4574-91b0-565fa7675e78",
   "metadata": {},
   "source": [
    "4.Write program to insert new item before the second element"
   ]
  },
  {
   "cell_type": "code",
   "execution_count": 5,
   "id": "80721b05-a60f-41fe-82db-70b1b75ffa73",
   "metadata": {},
   "outputs": [
    {
     "name": "stdout",
     "output_type": "stream",
     "text": [
      "[1, 2, 3, 4, 5]\n"
     ]
    }
   ],
   "source": [
    "# Define list1\n",
    "list1 = [1,3,4,5]\n",
    "\n",
    "#Define List2\n",
    "## Insert the value 2 at index position 1\n",
    "list1.insert(1,2)\n",
    "#(1,2) where 1-->index postiton and 2-->new item\n",
    "\n",
    "## Print the updated list\n",
    "print(list1)"
   ]
  },
  {
   "cell_type": "markdown",
   "id": "6389c7e1-27a3-4410-803d-bf2ab807a687",
   "metadata": {},
   "source": [
    "5.Write program to remove first occurrence of specified elements in the list,first you check which number is repeated and then remove it."
   ]
  },
  {
   "cell_type": "code",
   "execution_count": 21,
   "id": "725e62a9-bb60-4e63-84ee-cc4318402c73",
   "metadata": {},
   "outputs": [
    {
     "name": "stdout",
     "output_type": "stream",
     "text": [
      "[1, 2, 3, 4, 5, 6]\n"
     ]
    }
   ],
   "source": [
    "# Define the list\n",
    "list = [1,2,3,3,4,5,6]\n",
    "\n",
    "# Iterate through the list to find duplicates\n",
    "for item in list:\n",
    "    if list.count(item) > 1: # Check if the item appears more than once\n",
    "        list.remove(item) # Remove the first occurrence of the duplicate\n",
    "        break # Exit the loop after removing one duplicate\n",
    "\n",
    "# Print the updated list\n",
    "print(list)\n"
   ]
  },
  {
   "cell_type": "code",
   "execution_count": 6,
   "id": "dc8c6772-d364-4767-ad0b-63fe3a77c125",
   "metadata": {},
   "outputs": [
    {
     "name": "stdout",
     "output_type": "stream",
     "text": [
      "[1, 2, 4, 3]\n"
     ]
    }
   ],
   "source": [
    "# Define the list\n",
    "list = [1,2,3,4,3]\n",
    "\n",
    "# Remove the first occurrence of the value 3\n",
    "list.remove(3)\n",
    "\n",
    "# Print the updated list\n",
    "print(list)"
   ]
  },
  {
   "cell_type": "markdown",
   "id": "96df0270-bcb7-458b-aae3-eb9bfd51f9a6",
   "metadata": {},
   "source": [
    "6.write a program to check whether an element exist in a tuple or not"
   ]
  },
  {
   "cell_type": "code",
   "execution_count": 25,
   "id": "592000ad-14a9-453d-8d41-5b153519c530",
   "metadata": {},
   "outputs": [
    {
     "name": "stdout",
     "output_type": "stream",
     "text": [
      "not exist\n"
     ]
    }
   ],
   "source": [
    "# Define a tuple\n",
    "tup = (1,2,3,4,5)\n",
    "# Element to check\n",
    "element = 6\n",
    "\n",
    "# Check if the element exists in the tuple\n",
    "if element in tup:\n",
    "    print(\"exist\")# Prints if the element is found\n",
    "else:\n",
    "    print(\"not exist\")# Prints if the element is not found"
   ]
  },
  {
   "cell_type": "code",
   "execution_count": 27,
   "id": "e5063b3d-3bc7-44ff-8c78-dca184d3dcc0",
   "metadata": {},
   "outputs": [
    {
     "name": "stdout",
     "output_type": "stream",
     "text": [
      "not exist\n"
     ]
    }
   ],
   "source": [
    "# Define a tuple\n",
    "tup = (1,23,4)\n",
    "# Element to check\n",
    "element = 24\n",
    "# Check if the element exists in the tuple using the count() method\n",
    "if tup.count(element) > 0:\n",
    "    print(\"exist\")# Prints if the element is found\n",
    "else:\n",
    "    print(\"not exist\")# Prints if the element is not found"
   ]
  },
  {
   "cell_type": "markdown",
   "id": "837b4546-912f-495c-ac8f-2e8af2104ae1",
   "metadata": {},
   "source": [
    "7.write program to replace last value of each tuple in list to 100"
   ]
  },
  {
   "cell_type": "code",
   "execution_count": 3,
   "id": "7a808ec6-99cc-45f5-bc04-40ab2792531b",
   "metadata": {},
   "outputs": [
    {
     "name": "stdout",
     "output_type": "stream",
     "text": [
      "(20, 40, 60, 80, 90)\n",
      "[20, 40, 60, 80, 100]\n"
     ]
    }
   ],
   "source": [
    "# Define a tuple\n",
    "tup = (20,40,60,80,90)\n",
    "print(tup)# Print the original tuple\n",
    "\n",
    "#convert tuple to list\n",
    "lst = list(tup)\n",
    "# Modify the 5th element (index 4) of the list\n",
    "lst[4] = 100\n",
    "# Convert the modified list back to a tuple\n",
    "tup = tuple(y)\n",
    "#Prient the modified List\n",
    "print(lst)"
   ]
  },
  {
   "cell_type": "markdown",
   "id": "dd43c0fc-4df6-48e1-85b7-7e3aa6d46313",
   "metadata": {},
   "source": [
    "8.write a program to add a key and value in the dictionary"
   ]
  },
  {
   "cell_type": "code",
   "execution_count": 5,
   "id": "58ea8830-9125-4fe0-a964-0f1046886016",
   "metadata": {},
   "outputs": [
    {
     "name": "stdout",
     "output_type": "stream",
     "text": [
      "{'Name': 'Ishwari', 'Rollno': 35, 'Div': 'A'}\n",
      "{'Name': 'Ishwari', 'Rollno': 35, 'Div': 'A', 'mobileno': 123455}\n"
     ]
    }
   ],
   "source": [
    "# Define a dictionary\n",
    "rec = {\"Name\":\"Ishwari\",\n",
    "       \"Rollno\":35,\n",
    "       \"Div\":\"A\"\n",
    "      }\n",
    "# Print the original dictionary\n",
    "print(rec)\n",
    "# Add a new key-value pair for 'mobileno'\n",
    "rec[\"mobileno\"] = 123455\n",
    "# Print the updated dictionary\n",
    "print(rec)\n"
   ]
  },
  {
   "cell_type": "markdown",
   "id": "6e628710-7d67-4ae5-8da1-8a9cae145fc5",
   "metadata": {},
   "source": [
    "9.Write program to concatenate dictionary"
   ]
  },
  {
   "cell_type": "code",
   "execution_count": 6,
   "id": "331bf489-4770-46a7-a804-d4540a4b3d33",
   "metadata": {},
   "outputs": [
    {
     "name": "stdout",
     "output_type": "stream",
     "text": [
      "{'a': 1, 'b': 2, 'c': 3, 'd': 4}\n"
     ]
    }
   ],
   "source": [
    "# Define two dictionaries\n",
    "dict1 = {'a': 1, 'b': 2}\n",
    "dict2 = {'c': 3, 'd': 4}\n",
    "\n",
    "# Merge dictionaries using unpacking (** operator)\n",
    "concat_dict = {**dict1,**dict2}\n",
    "\n",
    "# Print the merged dictionary\n",
    "print(concat_dict)"
   ]
  },
  {
   "cell_type": "markdown",
   "id": "481e3569-8f26-458f-b662-ecd32b143cd7",
   "metadata": {},
   "source": [
    "10.write program to create dictionary where the keys are from 1 to 15 and values are from square of the numbers"
   ]
  },
  {
   "cell_type": "code",
   "execution_count": 7,
   "id": "34c61d24-d065-48c0-b991-472017f07d6d",
   "metadata": {},
   "outputs": [
    {
     "name": "stdout",
     "output_type": "stream",
     "text": [
      "{1: 1, 2: 4, 3: 9, 4: 16, 5: 25, 6: 36, 7: 49, 8: 64, 9: 81, 10: 100, 11: 121, 12: 144, 13: 169, 14: 196, 15: 225}\n"
     ]
    }
   ],
   "source": [
    "# Create a dictionary using dictionary comprehension\n",
    "# Keys: Numbers from 1 to 15, Values: Their squares\n",
    "\n",
    "dict = {i:i**2 for i in range(1,16)}\n",
    "# Print the generated dictionary\n",
    "print(dict)"
   ]
  },
  {
   "cell_type": "markdown",
   "id": "62b8986a-1058-4b2e-b4bd-d8f5da015995",
   "metadata": {},
   "source": [
    "11.Write a program to sum of all values in the dictionary"
   ]
  },
  {
   "cell_type": "code",
   "execution_count": 8,
   "id": "579c4308-b100-46e1-b3bf-a21e1a24c777",
   "metadata": {},
   "outputs": [
    {
     "name": "stdout",
     "output_type": "stream",
     "text": [
      "385\n"
     ]
    }
   ],
   "source": [
    "# Define the dictionary\n",
    "dict = {1: 1, 2: 4, 3: 9, 4: 16, 5: 25, 6: 36, 7: 49, 8: 64, 9: 81, 10: 100}\n",
    "#Now Calculate the sum of values\n",
    "sum_value = sum(dict.values())\n",
    "# Print the sum of the values\n",
    "print(sum_value)"
   ]
  },
  {
   "cell_type": "markdown",
   "id": "95961bf7-595d-4396-a6b7-8aba8e60a1bd",
   "metadata": {},
   "source": [
    "12.Write the code to Find the Factorial of The Given number"
   ]
  },
  {
   "cell_type": "code",
   "execution_count": null,
   "id": "4c820df8-904a-4ccb-af9f-b0249291fb73",
   "metadata": {},
   "outputs": [],
   "source": [
    "def factorial(n):\n",
    "    result = 1\n",
    "    for in range(1,n+1):\n",
    "        result *= i\n",
    "    return result\n",
    "\n",
    "num = int(input(\"Enter the number\"))\n",
    "print(\"Factorial is\",factorial(num))"
   ]
  },
  {
   "cell_type": "code",
   "execution_count": null,
   "id": "c5d63b96-1ba7-44d9-8bdd-15564dfbfcf5",
   "metadata": {},
   "outputs": [],
   "source": []
  }
 ],
 "metadata": {
  "kernelspec": {
   "display_name": "Python 3 (ipykernel)",
   "language": "python",
   "name": "python3"
  },
  "language_info": {
   "codemirror_mode": {
    "name": "ipython",
    "version": 3
   },
   "file_extension": ".py",
   "mimetype": "text/x-python",
   "name": "python",
   "nbconvert_exporter": "python",
   "pygments_lexer": "ipython3",
   "version": "3.11.4"
  }
 },
 "nbformat": 4,
 "nbformat_minor": 5
}
