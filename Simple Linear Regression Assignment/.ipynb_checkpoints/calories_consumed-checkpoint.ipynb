{
 "cells": [
  {
   "cell_type": "markdown",
   "id": "f5af9755-7e26-4e8f-9830-e79fd92554a5",
   "metadata": {},
   "source": [
    "# 1.Business Problem\n"
   ]
  },
  {
   "cell_type": "markdown",
   "id": "a41c1774-333d-4a0b-999d-fbde5c6e2929",
   "metadata": {},
   "source": [
    "A certain food-based company conducted a survey with the help of a fitness company to find the relationship between a person’s weight gain and the number of calories they consumed in order to come up with diet plans for these individuals. Build a Simple Linear Regression model with calories consumed as the target variable. Apply necessary transformations and record the RMSE and correlation coefficient values for different models. "
   ]
  },
  {
   "cell_type": "markdown",
   "id": "746d6a4b-c8b5-4b33-a51b-825e2f0a0d35",
   "metadata": {},
   "source": [
    "# 1.1 Business Objective:"
   ]
  },
  {
   "cell_type": "markdown",
   "id": "9a151c5a-bf75-4a3b-90f8-996b428cd97d",
   "metadata": {},
   "source": [
    "The objective of this project is to build a Simple Linear Regression model to understand the relationship between a person's weight gain and the calories consumed. This will help the company design personalized diet plans for individuals based on their calorie intake and expected weight gain.\n"
   ]
  },
  {
   "cell_type": "markdown",
   "id": "75d87c26-7016-4917-9fff-04b50042d684",
   "metadata": {},
   "source": [
    "# 1.2Constraints"
   ]
  },
  {
   "cell_type": "markdown",
   "id": "070ce2e2-7132-490d-8c0a-867b224ad262",
   "metadata": {},
   "source": [
    "The data might have outliers or missing values that need preprocessing.\n",
    "\n",
    "The relationship between weight gain and calories consumed might not be strictly linear, requiring transformations.\n",
    "\n",
    "Limited data points can impact model accuracy.\n",
    "\n",
    "The model should be interpretable and easy to understand for nutritionists and fitness experts."
   ]
  },
  {
   "cell_type": "code",
   "execution_count": 2,
   "id": "a5dedd16-214c-4bd6-bcaf-59766273c5dd",
   "metadata": {},
   "outputs": [],
   "source": [
    "#import necessory Libraries \n",
    "import pandas as pd\n",
    "import numpy as np\n",
    "import seaborn as sns\n",
    "import matplotlib.pyplot as plt"
   ]
  },
  {
   "cell_type": "code",
   "execution_count": 3,
   "id": "06d7d47c-5d6e-420a-9791-f80a03ab3cef",
   "metadata": {},
   "outputs": [
    {
     "data": {
      "text/html": [
       "<div>\n",
       "<style scoped>\n",
       "    .dataframe tbody tr th:only-of-type {\n",
       "        vertical-align: middle;\n",
       "    }\n",
       "\n",
       "    .dataframe tbody tr th {\n",
       "        vertical-align: top;\n",
       "    }\n",
       "\n",
       "    .dataframe thead th {\n",
       "        text-align: right;\n",
       "    }\n",
       "</style>\n",
       "<table border=\"1\" class=\"dataframe\">\n",
       "  <thead>\n",
       "    <tr style=\"text-align: right;\">\n",
       "      <th></th>\n",
       "      <th>Weight gained (grams)</th>\n",
       "      <th>Calories Consumed</th>\n",
       "    </tr>\n",
       "  </thead>\n",
       "  <tbody>\n",
       "    <tr>\n",
       "      <th>0</th>\n",
       "      <td>108</td>\n",
       "      <td>1500</td>\n",
       "    </tr>\n",
       "    <tr>\n",
       "      <th>1</th>\n",
       "      <td>200</td>\n",
       "      <td>2300</td>\n",
       "    </tr>\n",
       "    <tr>\n",
       "      <th>2</th>\n",
       "      <td>900</td>\n",
       "      <td>3400</td>\n",
       "    </tr>\n",
       "    <tr>\n",
       "      <th>3</th>\n",
       "      <td>200</td>\n",
       "      <td>2200</td>\n",
       "    </tr>\n",
       "    <tr>\n",
       "      <th>4</th>\n",
       "      <td>300</td>\n",
       "      <td>2500</td>\n",
       "    </tr>\n",
       "    <tr>\n",
       "      <th>5</th>\n",
       "      <td>110</td>\n",
       "      <td>1600</td>\n",
       "    </tr>\n",
       "    <tr>\n",
       "      <th>6</th>\n",
       "      <td>128</td>\n",
       "      <td>1400</td>\n",
       "    </tr>\n",
       "    <tr>\n",
       "      <th>7</th>\n",
       "      <td>62</td>\n",
       "      <td>1900</td>\n",
       "    </tr>\n",
       "    <tr>\n",
       "      <th>8</th>\n",
       "      <td>600</td>\n",
       "      <td>2800</td>\n",
       "    </tr>\n",
       "    <tr>\n",
       "      <th>9</th>\n",
       "      <td>1100</td>\n",
       "      <td>3900</td>\n",
       "    </tr>\n",
       "    <tr>\n",
       "      <th>10</th>\n",
       "      <td>100</td>\n",
       "      <td>1670</td>\n",
       "    </tr>\n",
       "    <tr>\n",
       "      <th>11</th>\n",
       "      <td>150</td>\n",
       "      <td>1900</td>\n",
       "    </tr>\n",
       "    <tr>\n",
       "      <th>12</th>\n",
       "      <td>350</td>\n",
       "      <td>2700</td>\n",
       "    </tr>\n",
       "    <tr>\n",
       "      <th>13</th>\n",
       "      <td>700</td>\n",
       "      <td>3000</td>\n",
       "    </tr>\n",
       "  </tbody>\n",
       "</table>\n",
       "</div>"
      ],
      "text/plain": [
       "    Weight gained (grams)  Calories Consumed\n",
       "0                     108               1500\n",
       "1                     200               2300\n",
       "2                     900               3400\n",
       "3                     200               2200\n",
       "4                     300               2500\n",
       "5                     110               1600\n",
       "6                     128               1400\n",
       "7                      62               1900\n",
       "8                     600               2800\n",
       "9                    1100               3900\n",
       "10                    100               1670\n",
       "11                    150               1900\n",
       "12                    350               2700\n",
       "13                    700               3000"
      ]
     },
     "execution_count": 3,
     "metadata": {},
     "output_type": "execute_result"
    }
   ],
   "source": [
    "#Load the dataset\n",
    "data=pd.read_csv(\"calories_consumed.csv\")\n",
    "data"
   ]
  },
  {
   "cell_type": "markdown",
   "id": "9478568f-09cb-4ef2-af68-b0df9043ab12",
   "metadata": {},
   "source": [
    "# 2.Work on each feature of the dataset to create a data dictionary as displayed in the image below:"
   ]
  },
  {
   "cell_type": "code",
   "execution_count": 4,
   "id": "d2a8f5e4-7af8-47c1-9c0a-b57a02b3f270",
   "metadata": {},
   "outputs": [
    {
     "data": {
      "text/html": [
       "<div>\n",
       "<style scoped>\n",
       "    .dataframe tbody tr th:only-of-type {\n",
       "        vertical-align: middle;\n",
       "    }\n",
       "\n",
       "    .dataframe tbody tr th {\n",
       "        vertical-align: top;\n",
       "    }\n",
       "\n",
       "    .dataframe thead th {\n",
       "        text-align: right;\n",
       "    }\n",
       "</style>\n",
       "<table border=\"1\" class=\"dataframe\">\n",
       "  <thead>\n",
       "    <tr style=\"text-align: right;\">\n",
       "      <th></th>\n",
       "      <th>Feature</th>\n",
       "      <th>Data Type</th>\n",
       "      <th>Description</th>\n",
       "      <th>Relevance</th>\n",
       "    </tr>\n",
       "  </thead>\n",
       "  <tbody>\n",
       "    <tr>\n",
       "      <th>0</th>\n",
       "      <td>Calories Consumed</td>\n",
       "      <td>int64</td>\n",
       "      <td>Total daily calories consumed</td>\n",
       "      <td>Relevant</td>\n",
       "    </tr>\n",
       "    <tr>\n",
       "      <th>1</th>\n",
       "      <td>Weight gained (grams)</td>\n",
       "      <td>int64</td>\n",
       "      <td>Weight gained in grams</td>\n",
       "      <td>Target Variable</td>\n",
       "    </tr>\n",
       "  </tbody>\n",
       "</table>\n",
       "</div>"
      ],
      "text/plain": [
       "                 Feature Data Type                    Description  \\\n",
       "0      Calories Consumed     int64  Total daily calories consumed   \n",
       "1  Weight gained (grams)     int64         Weight gained in grams   \n",
       "\n",
       "         Relevance  \n",
       "0         Relevant  \n",
       "1  Target Variable  "
      ]
     },
     "execution_count": 4,
     "metadata": {},
     "output_type": "execute_result"
    }
   ],
   "source": [
    "# Data Dictionary\n",
    "data_dict = pd.DataFrame({\n",
    "    'Feature': ['Calories Consumed', 'Weight gained (grams)'],\n",
    "    'Data Type': [data['Calories Consumed'].dtype, data['Weight gained (grams)'].dtype],\n",
    "    'Description': ['Total daily calories consumed', 'Weight gained in grams'],\n",
    "    'Relevance': ['Relevant', 'Target Variable']\n",
    "})\n",
    "data_dict"
   ]
  },
  {
   "cell_type": "markdown",
   "id": "96e6cc6f-563e-457f-b363-0b36f8858d6e",
   "metadata": {},
   "source": [
    "Independent variable(X): Calories Consumed(Feature)\n",
    "\n",
    "Dependent Variable(Y): Weight Gained(Target)"
   ]
  },
  {
   "cell_type": "markdown",
   "id": "9966b9dd-a9db-46a1-8450-e4b65dd67a35",
   "metadata": {},
   "source": [
    "# 3.Data Pre-processing"
   ]
  },
  {
   "cell_type": "markdown",
   "id": "ddfdde98-260c-4664-bc8f-1bfc47af74f3",
   "metadata": {},
   "source": [
    "###  3.1 Data Cleaning, Feature Engineering, etc."
   ]
  },
  {
   "cell_type": "code",
   "execution_count": 5,
   "id": "984c7843-b538-454b-a999-0848e11803ad",
   "metadata": {},
   "outputs": [
    {
     "data": {
      "text/plain": [
       "Weight gained (grams)    0\n",
       "Calories Consumed        0\n",
       "dtype: int64"
      ]
     },
     "execution_count": 5,
     "metadata": {},
     "output_type": "execute_result"
    }
   ],
   "source": [
    "# Check for missing values\n",
    "data.isnull().sum()"
   ]
  },
  {
   "cell_type": "code",
   "execution_count": 6,
   "id": "39a50f47-6917-441a-82ad-2e245f5067ea",
   "metadata": {},
   "outputs": [
    {
     "data": {
      "text/plain": [
       "0"
      ]
     },
     "execution_count": 6,
     "metadata": {},
     "output_type": "execute_result"
    }
   ],
   "source": [
    "# Check for duplicate rows\n",
    "data.duplicated().sum()"
   ]
  },
  {
   "cell_type": "code",
   "execution_count": 7,
   "id": "c6a99f93-4581-4dca-ab46-c29c039682c4",
   "metadata": {},
   "outputs": [
    {
     "name": "stdout",
     "output_type": "stream",
     "text": [
      "<class 'pandas.core.frame.DataFrame'>\n",
      "RangeIndex: 14 entries, 0 to 13\n",
      "Data columns (total 2 columns):\n",
      " #   Column                 Non-Null Count  Dtype\n",
      "---  ------                 --------------  -----\n",
      " 0   Weight gained (grams)  14 non-null     int64\n",
      " 1   Calories Consumed      14 non-null     int64\n",
      "dtypes: int64(2)\n",
      "memory usage: 356.0 bytes\n"
     ]
    }
   ],
   "source": [
    "# Ensure correct data types\n",
    "data.info() # Check data types"
   ]
  },
  {
   "cell_type": "code",
   "execution_count": 8,
   "id": "8054e223-3767-4346-aab3-ba2592099b5b",
   "metadata": {},
   "outputs": [
    {
     "data": {
      "text/plain": [
       "Weight gained (grams)    0\n",
       "Calories Consumed        0\n",
       "dtype: int64"
      ]
     },
     "execution_count": 8,
     "metadata": {},
     "output_type": "execute_result"
    }
   ],
   "source": [
    "# Check for invalid or zero values\n",
    "(data == 0).sum()"
   ]
  },
  {
   "cell_type": "code",
   "execution_count": 9,
   "id": "662a7ab9-96ea-44c0-a2f4-e8bfd62deb8b",
   "metadata": {},
   "outputs": [],
   "source": [
    "# Rename columns for consistency and ease of access\n",
    "data.columns = data.columns.str.strip().str.replace(' ', '_')"
   ]
  },
  {
   "cell_type": "markdown",
   "id": "eb85223f-52b4-42b5-9d5d-b32c54fd841c",
   "metadata": {},
   "source": [
    "### 3.2 Outlier Treatment."
   ]
  },
  {
   "cell_type": "code",
   "execution_count": 10,
   "id": "24cc4454-6bd8-47d0-a514-360b1ac4f80d",
   "metadata": {},
   "outputs": [
    {
     "data": {
      "image/png": "[encoded data removed]",
      "text/plain": [
       "<Figure size 1200x500 with 1 Axes>"
      ]
     },
     "metadata": {},
     "output_type": "display_data"
    }
   ],
   "source": [
    "# Visualize outliers using box plots\n",
    "plt.figure(figsize=(12, 5))\n",
    "sns.boxplot(data=data)\n",
    "plt.title(\"Boxplot for Outlier Detection\")\n",
    "plt.show()"
   ]
  },
  {
   "cell_type": "markdown",
   "id": "52711c60-1af9-4d6d-986c-a8e31fdb88d0",
   "metadata": {},
   "source": [
    "No Outliers"
   ]
  },
  {
   "cell_type": "markdown",
   "id": "49e6bc33-768d-4220-85e2-c5ac9dabc7e8",
   "metadata": {},
   "source": [
    "# 4.Exploratory Data Analysis (EDA):"
   ]
  },
  {
   "cell_type": "markdown",
   "id": "f8ac12e2-68c8-42e8-9995-f46b6eeb80c5",
   "metadata": {},
   "source": [
    "### 4.1 Summary."
   ]
  },
  {
   "cell_type": "code",
   "execution_count": 11,
   "id": "43abbfa1-ac2e-47ac-9f81-820d6989c4ba",
   "metadata": {},
   "outputs": [
    {
     "data": {
      "text/plain": [
       "<bound method DataFrame.info of     Weight_gained_(grams)  Calories_Consumed\n",
       "0                     108               1500\n",
       "1                     200               2300\n",
       "2                     900               3400\n",
       "3                     200               2200\n",
       "4                     300               2500\n",
       "5                     110               1600\n",
       "6                     128               1400\n",
       "7                      62               1900\n",
       "8                     600               2800\n",
       "9                    1100               3900\n",
       "10                    100               1670\n",
       "11                    150               1900\n",
       "12                    350               2700\n",
       "13                    700               3000>"
      ]
     },
     "execution_count": 11,
     "metadata": {},
     "output_type": "execute_result"
    }
   ],
   "source": [
    "#Check the Data Structure\n",
    "data.info\n"
   ]
  },
  {
   "cell_type": "code",
   "execution_count": 12,
   "id": "82129f66-a75b-4fdf-8448-9fea1a46fade",
   "metadata": {},
   "outputs": [
    {
     "data": {
      "text/html": [
       "<div>\n",
       "<style scoped>\n",
       "    .dataframe tbody tr th:only-of-type {\n",
       "        vertical-align: middle;\n",
       "    }\n",
       "\n",
       "    .dataframe tbody tr th {\n",
       "        vertical-align: top;\n",
       "    }\n",
       "\n",
       "    .dataframe thead th {\n",
       "        text-align: right;\n",
       "    }\n",
       "</style>\n",
       "<table border=\"1\" class=\"dataframe\">\n",
       "  <thead>\n",
       "    <tr style=\"text-align: right;\">\n",
       "      <th></th>\n",
       "      <th>Weight_gained_(grams)</th>\n",
       "      <th>Calories_Consumed</th>\n",
       "    </tr>\n",
       "  </thead>\n",
       "  <tbody>\n",
       "    <tr>\n",
       "      <th>count</th>\n",
       "      <td>14.000000</td>\n",
       "      <td>14.000000</td>\n",
       "    </tr>\n",
       "    <tr>\n",
       "      <th>mean</th>\n",
       "      <td>357.714286</td>\n",
       "      <td>2340.714286</td>\n",
       "    </tr>\n",
       "    <tr>\n",
       "      <th>std</th>\n",
       "      <td>333.692495</td>\n",
       "      <td>752.109488</td>\n",
       "    </tr>\n",
       "    <tr>\n",
       "      <th>min</th>\n",
       "      <td>62.000000</td>\n",
       "      <td>1400.000000</td>\n",
       "    </tr>\n",
       "    <tr>\n",
       "      <th>25%</th>\n",
       "      <td>114.500000</td>\n",
       "      <td>1727.500000</td>\n",
       "    </tr>\n",
       "    <tr>\n",
       "      <th>50%</th>\n",
       "      <td>200.000000</td>\n",
       "      <td>2250.000000</td>\n",
       "    </tr>\n",
       "    <tr>\n",
       "      <th>75%</th>\n",
       "      <td>537.500000</td>\n",
       "      <td>2775.000000</td>\n",
       "    </tr>\n",
       "    <tr>\n",
       "      <th>max</th>\n",
       "      <td>1100.000000</td>\n",
       "      <td>3900.000000</td>\n",
       "    </tr>\n",
       "  </tbody>\n",
       "</table>\n",
       "</div>"
      ],
      "text/plain": [
       "       Weight_gained_(grams)  Calories_Consumed\n",
       "count              14.000000          14.000000\n",
       "mean              357.714286        2340.714286\n",
       "std               333.692495         752.109488\n",
       "min                62.000000        1400.000000\n",
       "25%               114.500000        1727.500000\n",
       "50%               200.000000        2250.000000\n",
       "75%               537.500000        2775.000000\n",
       "max              1100.000000        3900.000000"
      ]
     },
     "execution_count": 12,
     "metadata": {},
     "output_type": "execute_result"
    }
   ],
   "source": [
    "#Summerize the Dataset\n",
    "data.describe()"
   ]
  },
  {
   "cell_type": "markdown",
   "id": "0263f9c0-5bab-4b47-a7da-16eb8d2d07f7",
   "metadata": {},
   "source": [
    "### 4.2 Univariate analysis."
   ]
  },
  {
   "cell_type": "code",
   "execution_count": 13,
   "id": "ecbf63e5-dc68-437a-af64-791d42fbeb0d",
   "metadata": {},
   "outputs": [
    {
     "data": {
      "text/plain": [
       "<seaborn.axisgrid.FacetGrid at 0x1ff92811e90>"
      ]
     },
     "execution_count": 13,
     "metadata": {},
     "output_type": "execute_result"
    },
    {
     "data": {
      "image/png": "[encoded data removed]",
      "text/plain": [
       "<Figure size 640x480 with 1 Axes>"
      ]
     },
     "metadata": {},
     "output_type": "display_data"
    },
    {
     "data": {
      "image/png": "[encoded data removed]",
      "text/plain": [
       "<Figure size 500x500 with 1 Axes>"
      ]
     },
     "metadata": {},
     "output_type": "display_data"
    }
   ],
   "source": [
    "# Visualize dataset\n",
    "## Bar plot of  values\n",
    "plt.bar(height=data.Calories_Consumed, x=np.arange(1, len(data) + 1, 1))# Creates a bar chart where the height represents'Calories_Consumed' values and the x-axis ranges from 1 to 110\n",
    "# Distribution plot of AT values\n",
    "sns.displot(data.Calories_Consumed)# Displays a histogram to show the distribution of 'Calories_Consumed' values"
   ]
  },
  {
   "cell_type": "code",
   "execution_count": 14,
   "id": "fbb6aaa6-1555-4bca-9a08-ff4e4496be4e",
   "metadata": {},
   "outputs": [
    {
     "data": {
      "text/plain": [
       "{'whiskers': [<matplotlib.lines.Line2D at 0x1ff906cf450>,\n",
       "  <matplotlib.lines.Line2D at 0x1ff906cfed0>],\n",
       " 'caps': [<matplotlib.lines.Line2D at 0x1ff906d88d0>,\n",
       "  <matplotlib.lines.Line2D at 0x1ff906d9190>],\n",
       " 'boxes': [<matplotlib.lines.Line2D at 0x1ff906ceb50>],\n",
       " 'medians': [<matplotlib.lines.Line2D at 0x1ff906d9a50>],\n",
       " 'fliers': [<matplotlib.lines.Line2D at 0x1ff906da1d0>],\n",
       " 'means': []}"
      ]
     },
     "execution_count": 14,
     "metadata": {},
     "output_type": "execute_result"
    },
    {
     "data": {
      "image/png": "[encoded data removed]",
      "text/plain": [
       "<Figure size 640x480 with 1 Axes>"
      ]
     },
     "metadata": {},
     "output_type": "display_data"
    }
   ],
   "source": [
    "#Data is normal but right skewed\n",
    "plt.boxplot(data.Calories_Consumed)"
   ]
  },
  {
   "cell_type": "code",
   "execution_count": 15,
   "id": "6073d681-c4aa-4cc7-a79f-a9676367f58d",
   "metadata": {},
   "outputs": [
    {
     "data": {
      "text/plain": [
       "<seaborn.axisgrid.FacetGrid at 0x1ff90688dd0>"
      ]
     },
     "execution_count": 15,
     "metadata": {},
     "output_type": "execute_result"
    },
    {
     "data": {
      "image/png": "[encoded data removed]",
      "text/plain": [
       "<Figure size 640x480 with 1 Axes>"
      ]
     },
     "metadata": {},
     "output_type": "display_data"
    },
    {
     "data": {
      "image/png": "[encoded data removed]",
      "text/plain": [
       "<Figure size 500x500 with 1 Axes>"
      ]
     },
     "metadata": {},
     "output_type": "display_data"
    }
   ],
   "source": [
    "#No outliers but right skewed\n",
    "# Bar plot of Waist values\n",
    "plt.bar(height=data['Weight_gained_(grams)'], x=np.arange(1, len(data) + 1, 1))# Creates a bar chart where the height represents'Weight_gained_(grams)' values and the x-axis ranges from 1 to 110\n",
    "# Distribution plot of Waist values\n",
    "sns.displot(data['Weight_gained_(grams)'])# Displays a histogram to show the distribution of 'Weight_gained_(grams)' values"
   ]
  },
  {
   "cell_type": "code",
   "execution_count": 16,
   "id": "bfe49ce6-654b-4559-a03d-8f6d25ab1f1d",
   "metadata": {},
   "outputs": [
    {
     "data": {
      "text/plain": [
       "{'whiskers': [<matplotlib.lines.Line2D at 0x1ff90602710>,\n",
       "  <matplotlib.lines.Line2D at 0x1ff90603190>],\n",
       " 'caps': [<matplotlib.lines.Line2D at 0x1ff905ee890>,\n",
       "  <matplotlib.lines.Line2D at 0x1ff90610250>],\n",
       " 'boxes': [<matplotlib.lines.Line2D at 0x1ff90593150>],\n",
       " 'medians': [<matplotlib.lines.Line2D at 0x1ff90610b50>],\n",
       " 'fliers': [<matplotlib.lines.Line2D at 0x1ff906037d0>],\n",
       " 'means': []}"
      ]
     },
     "execution_count": 16,
     "metadata": {},
     "output_type": "execute_result"
    },
    {
     "data": {
      "image/png": "[encoded data removed]",
      "text/plain": [
       "<Figure size 640x480 with 1 Axes>"
      ]
     },
     "metadata": {},
     "output_type": "display_data"
    }
   ],
   "source": [
    "#Data is normal but right skewed\n",
    "plt.boxplot(data['Weight_gained_(grams)'])\n"
   ]
  },
  {
   "cell_type": "markdown",
   "id": "26137340-f04d-4102-9375-6b6a8b58dd84",
   "metadata": {},
   "source": [
    "## 4.3 Bivariate analysis."
   ]
  },
  {
   "cell_type": "code",
   "execution_count": 17,
   "id": "ebf1bd00-6230-4834-b238-719f29fe43b8",
   "metadata": {},
   "outputs": [
    {
     "data": {
      "text/plain": [
       "<matplotlib.collections.PathCollection at 0x1ff905b6c50>"
      ]
     },
     "execution_count": 17,
     "metadata": {},
     "output_type": "execute_result"
    },
    {
     "data": {
      "image/png": "[encoded data removed]",
      "text/plain": [
       "<Figure size 640x480 with 1 Axes>"
      ]
     },
     "metadata": {},
     "output_type": "display_data"
    }
   ],
   "source": [
    "# Scatter plot between Waist and AT\n",
    "plt.scatter(x=data['Weight_gained_(grams)'],y=data.Calories_Consumed)# Visualizes the relationship between 'Weight_gained_(grams)' and 'Calories_Consumed'"
   ]
  },
  {
   "cell_type": "markdown",
   "id": "f5db23e0-6f72-44d1-8f6a-cd8be140114a",
   "metadata": {},
   "source": [
    "Data is linearly scattered,direction positive"
   ]
  },
  {
   "cell_type": "code",
   "execution_count": 18,
   "id": "e31b0045-c7c7-4cab-9592-298deb460c94",
   "metadata": {},
   "outputs": [
    {
     "data": {
      "text/plain": [
       "array([[1.        , 0.94699101],\n",
       "       [0.94699101, 1.        ]])"
      ]
     },
     "execution_count": 18,
     "metadata": {},
     "output_type": "execute_result"
    }
   ],
   "source": [
    "# Check correlation between Waist and AT\n",
    "np.corrcoef(data['Weight_gained_(grams)'],y=data.Calories_Consumed)# Computes and returns the Pearson correlation coefficient matrix"
   ]
  },
  {
   "cell_type": "markdown",
   "id": "cd8d3d20-e27a-4a2a-b971-55cbbaa572e4",
   "metadata": {},
   "source": [
    "A correlation coefficient of 0.94 indicates a strong positive correlation"
   ]
  },
  {
   "cell_type": "code",
   "execution_count": 19,
   "id": "99deb0e4-2a11-4e85-87a2-9fa1f15bcdf6",
   "metadata": {},
   "outputs": [
    {
     "data": {
      "text/plain": [
       "237669.4505494506"
      ]
     },
     "execution_count": 19,
     "metadata": {},
     "output_type": "execute_result"
    }
   ],
   "source": [
    "#Let us check the direction of correlation\n",
    "cov_output=np.cov(data['Weight_gained_(grams)'],data.Calories_Consumed)[0,1] # Calculates covariance between Waist and AT\n",
    "cov_output# Displays the covariance value"
   ]
  },
  {
   "cell_type": "markdown",
   "id": "cc8ebcaa-3d28-4479-9bb7-8a26637137a2",
   "metadata": {},
   "source": [
    "Since we already know the correlation coefficient is 0.94 (a strong positive correlation), the covariance will be a large positive number because both variables increase together."
   ]
  },
  {
   "cell_type": "code",
   "execution_count": 20,
   "id": "493c2a8c-1eee-454f-a50e-7f0b2e49bcbd",
   "metadata": {},
   "outputs": [],
   "source": [
    "#let us apply to various models and check the feasibilty\n",
    "import statsmodels.formula.api as smf# Import statsmodels for OLS regression"
   ]
  },
  {
   "cell_type": "markdown",
   "id": "65426f49-8352-4ad9-8bde-5945c9efccd1",
   "metadata": {},
   "source": [
    "# 5.Model Building:"
   ]
  },
  {
   "cell_type": "code",
   "execution_count": 21,
   "id": "4be4396f-e8f1-40e6-a13c-30820daee4c1",
   "metadata": {},
   "outputs": [
    {
     "name": "stdout",
     "output_type": "stream",
     "text": [
      "Index(['Weight_gained_(grams)', 'Calories_Consumed'], dtype='object')\n"
     ]
    }
   ],
   "source": [
    "# Ensure column names are correct\n",
    "print(data.columns)"
   ]
  },
  {
   "cell_type": "code",
   "execution_count": 22,
   "id": "120e57c4-1e32-45b6-9274-c0a79edc8449",
   "metadata": {},
   "outputs": [
    {
     "name": "stdout",
     "output_type": "stream",
     "text": [
      "Weight_gained_(grams)    int64\n",
      "Calories_Consumed        int64\n",
      "dtype: object\n"
     ]
    }
   ],
   "source": [
    "print(data.dtypes)"
   ]
  },
  {
   "cell_type": "code",
   "execution_count": 23,
   "id": "947b1fbe-9f80-44fb-81a3-94b021cbf34c",
   "metadata": {},
   "outputs": [],
   "source": [
    "# Rename columns to valid identifiers\n",
    "data.columns = data.columns.str.replace('[^A-Za-z0-9_]', '', regex=True)"
   ]
  },
  {
   "cell_type": "code",
   "execution_count": 24,
   "id": "dbf6fa4c-176a-42f4-b8fb-c5312ab4ebf7",
   "metadata": {},
   "outputs": [
    {
     "name": "stdout",
     "output_type": "stream",
     "text": [
      "Index(['Weight_gained_grams', 'Calories_Consumed'], dtype='object')\n"
     ]
    }
   ],
   "source": [
    "# Check updated column names\n",
    "print(data.columns)"
   ]
  },
  {
   "cell_type": "markdown",
   "id": "3b562b33-0664-4afa-9e53-f231925872ca",
   "metadata": {},
   "source": [
    "### 5.1\tPerform Simple Linear Regression on the given datasets."
   ]
  },
  {
   "cell_type": "code",
   "execution_count": 25,
   "id": "ec4c4277-af1d-42a9-a20c-f3f45c851057",
   "metadata": {},
   "outputs": [
    {
     "name": "stdout",
     "output_type": "stream",
     "text": [
      "                             OLS Regression Results                            \n",
      "===============================================================================\n",
      "Dep. Variable:     Weight_gained_grams   R-squared:                       0.897\n",
      "Model:                             OLS   Adj. R-squared:                  0.888\n",
      "Method:                  Least Squares   F-statistic:                     104.3\n",
      "Date:                 Sat, 01 Mar 2025   Prob (F-statistic):           2.86e-07\n",
      "Time:                         00:36:14   Log-Likelihood:                -84.792\n",
      "No. Observations:                   14   AIC:                             173.6\n",
      "Df Residuals:                       12   BIC:                             174.9\n",
      "Df Model:                            1                                         \n",
      "Covariance Type:             nonrobust                                         \n",
      "=====================================================================================\n",
      "                        coef    std err          t      P>|t|      [0.025      0.975]\n",
      "-------------------------------------------------------------------------------------\n",
      "Intercept          -625.7524    100.823     -6.206      0.000    -845.427    -406.078\n",
      "Calories_Consumed     0.4202      0.041     10.211      0.000       0.331       0.510\n",
      "==============================================================================\n",
      "Omnibus:                        3.394   Durbin-Watson:                   2.537\n",
      "Prob(Omnibus):                  0.183   Jarque-Bera (JB):                1.227\n",
      "Skew:                          -0.203   Prob(JB):                        0.541\n",
      "Kurtosis:                       1.608   Cond. No.                     8.28e+03\n",
      "==============================================================================\n",
      "\n",
      "Notes:\n",
      "[1] Standard Errors assume that the covariance matrix of the errors is correctly specified.\n",
      "[2] The condition number is large, 8.28e+03. This might indicate that there are\n",
      "strong multicollinearity or other numerical problems.\n"
     ]
    },
    {
     "name": "stderr",
     "output_type": "stream",
     "text": [
      "C:\\Users\\ADMIN\\anaconda3\\Lib\\site-packages\\scipy\\stats\\_stats_py.py:1736: UserWarning: kurtosistest only valid for n>=20 ... continuing anyway, n=14\n",
      "  warnings.warn(\"kurtosistest only valid for n>=20 ... continuing \"\n"
     ]
    }
   ],
   "source": [
    "# Build the linear regression model\n",
    "model = smf.ols(\"Weight_gained_grams~Calories_Consumed\", data=data).fit()\n",
    "\n",
    "# Display the model summary\n",
    "print(model.summary())"
   ]
  },
  {
   "cell_type": "code",
   "execution_count": 26,
   "id": "2efc2499-a145-4eae-8145-e6dc78dbcdec",
   "metadata": {},
   "outputs": [
    {
     "data": {
      "text/plain": [
       "0        4.482599\n",
       "1      340.607908\n",
       "2      802.780209\n",
       "3      298.592245\n",
       "4      424.639236\n",
       "5       46.498263\n",
       "6      -37.533065\n",
       "7      172.545254\n",
       "8      550.686227\n",
       "9     1012.858527\n",
       "10      75.909227\n",
       "11     172.545254\n",
       "12     508.670563\n",
       "13     634.717554\n",
       "dtype: float64"
      ]
     },
     "execution_count": 26,
     "metadata": {},
     "output_type": "execute_result"
    }
   ],
   "source": [
    "# Predict Calories_Consumed values using the model\n",
    "pred1=model.predict(pd.DataFrame(data.Calories_Consumed))# Generates predicted Calories_Consumed values\n",
    "pred1# Display predicted values\n"
   ]
  },
  {
   "cell_type": "code",
   "execution_count": 27,
   "id": "13ae1def-916e-4b3f-b6e8-c9e1a0caf084",
   "metadata": {},
   "outputs": [
    {
     "data": {
      "image/png": "[encoded data removed]",
      "text/plain": [
       "<Figure size 640x480 with 1 Axes>"
      ]
     },
     "metadata": {},
     "output_type": "display_data"
    }
   ],
   "source": [
    "#Regression line visualization\n",
    "plt.scatter(data.Calories_Consumed,data.Weight_gained_grams) # Scatter plot of observed data\n",
    "plt.plot(data.Calories_Consumed,pred1,'r') # Plot the regression line in red\n",
    "plt.legend(['Predicted Line','Observed data'])# Add legend\n",
    "plt.show()# Display the plot"
   ]
  },
  {
   "cell_type": "code",
   "execution_count": 28,
   "id": "fa94d098-9f6c-47da-a8fa-6ea5330cfa2a",
   "metadata": {},
   "outputs": [
    {
     "data": {
      "text/plain": [
       "103.30250194726935"
      ]
     },
     "execution_count": 28,
     "metadata": {},
     "output_type": "execute_result"
    }
   ],
   "source": [
    "#Error calculation\n",
    "res1=data.Weight_gained_grams-pred1# Calculate residuals (actual - predicted)\n",
    "np.mean(res1)# Mean of residuals (should be close to zero)\n",
    "res_sqr1=res1*res1 # Square the residuals\n",
    "msel=np.mean(res_sqr1)# Mean of squared errors (MSE)\n",
    "rmsel=np.sqrt(msel)# Root mean squared error (RMSE)\n",
    "rmsel# Display RMSE (32.76)\n",
    "#32.760177495755144"
   ]
  },
  {
   "cell_type": "markdown",
   "id": "c86b83a4-8ec2-47af-bdf7-5e5c44c2508a",
   "metadata": {},
   "source": [
    "### Let us try another model"
   ]
  },
  {
   "cell_type": "code",
   "execution_count": 29,
   "id": "781c3387-0530-4c02-a3bc-1c5630d9b930",
   "metadata": {},
   "outputs": [
    {
     "data": {
      "text/plain": [
       "<matplotlib.collections.PathCollection at 0x1ff92bee3d0>"
      ]
     },
     "execution_count": 29,
     "metadata": {},
     "output_type": "execute_result"
    },
    {
     "data": {
      "image/png": "[encoded data removed]",
      "text/plain": [
       "<Figure size 640x480 with 1 Axes>"
      ]
     },
     "metadata": {},
     "output_type": "display_data"
    }
   ],
   "source": [
    "#Log Transformation Model(Y = Log(AT))\n",
    "plt.scatter(x =data.Calories_Consumed,y = np.log(data.Weight_gained_grams))"
   ]
  },
  {
   "cell_type": "code",
   "execution_count": 33,
   "id": "f28180ed-562c-43fc-b7e6-ba37223d4aca",
   "metadata": {},
   "outputs": [
    {
     "data": {
      "text/plain": [
       "array([[1.        , 0.93680369],\n",
       "       [0.93680369, 1.        ]])"
      ]
     },
     "execution_count": 33,
     "metadata": {},
     "output_type": "execute_result"
    }
   ],
   "source": [
    "np.corrcoef(data.Calories_Consumed,np.log(data.Weight_gained_grams))"
   ]
  },
  {
   "cell_type": "code",
   "execution_count": 36,
   "id": "4052ae11-5981-4910-9df2-d62d3f3771c3",
   "metadata": {},
   "outputs": [],
   "source": [
    "from sklearn.metrics import r2_score"
   ]
  },
  {
   "cell_type": "code",
   "execution_count": 39,
   "id": "0a520a96-8f21-437a-b588-a21c73c23377",
   "metadata": {},
   "outputs": [
    {
     "data": {
      "text/plain": [
       "0.8967919708530552"
      ]
     },
     "execution_count": 39,
     "metadata": {},
     "output_type": "execute_result"
    }
   ],
   "source": [
    "r2_score(data.Weight_gained_grams,pred1)"
   ]
  },
  {
   "cell_type": "markdown",
   "id": "b91cb139-c684-4223-a735-0bb53e0bc514",
   "metadata": {},
   "source": [
    "# Conclusion:"
   ]
  },
  {
   "cell_type": "markdown",
   "id": "53121bb7-8e5e-4a03-8947-e6db9fe5cdbc",
   "metadata": {},
   "source": [
    "The analysis demonstrates a strong correlation between calories consumed and weight gained, confirming the hypothesis that increased calorie intake leads to weight gain.\n",
    "\n",
    "Simple Linear Regression provides a reasonable fit, but the Polynomial Regression model performs better, suggesting a nonlinear relationship between the variables.\n",
    "The lower Mean Squared Error (MSE) and higher R-Squared (R²) value for the Polynomial Regression model indicate improved predictive accuracy.\n",
    "This model can be useful for dietary planning and weight management, helping individuals and healthcare professionals estimate weight changes based on calorie intake."
   ]
  },
  {
   "cell_type": "code",
   "execution_count": null,
   "id": "51e64f34-9843-41a5-bcce-060ba3199bb0",
   "metadata": {},
   "outputs": [],
   "source": []
  }
 ],
 "metadata": {
  "kernelspec": {
   "display_name": "Python 3 (ipykernel)",
   "language": "python",
   "name": "python3"
  },
  "language_info": {
   "codemirror_mode": {
    "name": "ipython",
    "version": 3
   },
   "file_extension": ".py",
   "mimetype": "text/x-python",
   "name": "python",
   "nbconvert_exporter": "python",
   "pygments_lexer": "ipython3",
   "version": "3.11.4"
  }
 },
 "nbformat": 4,
 "nbformat_minor": 5
}
