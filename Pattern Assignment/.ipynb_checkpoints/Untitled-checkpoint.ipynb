{
 "cells": [
  {
   "cell_type": "markdown",
   "id": "14a318f7-91f7-4b24-b04c-ded805b508e9",
   "metadata": {},
   "source": [
    "Program to print Half pyramid using star"
   ]
  },
  {
   "cell_type": "code",
   "execution_count": 1,
   "id": "1b847576-372f-40eb-bedd-66840e8bc76c",
   "metadata": {},
   "outputs": [
    {
     "name": "stdout",
     "output_type": "stream",
     "text": [
      "* \n",
      "* * \n",
      "* * * \n",
      "* * * * \n",
      "* * * * * \n"
     ]
    }
   ],
   "source": [
    "n = 5\n",
    "for i in range(n):\n",
    "    for j in range(i+1):\n",
    "        print(\"*\",end = \" \")\n",
    "    print()"
   ]
  },
  {
   "cell_type": "markdown",
   "id": "b7a67101-7b2c-4769-bec9-a76472efa58f",
   "metadata": {},
   "source": [
    "Program to pring Half Pyramid using number"
   ]
  },
  {
   "cell_type": "code",
   "execution_count": 2,
   "id": "6a58438c-0ad6-4eb5-a23b-d479821e1ac0",
   "metadata": {},
   "outputs": [
    {
     "name": "stdout",
     "output_type": "stream",
     "text": [
      "A \n",
      "A B \n",
      "A B C \n",
      "A B C D \n",
      "A B C D E \n"
     ]
    }
   ],
   "source": [
    "n = 5\n",
    "for i in range(1,n+1):\n",
    "    for j in range(i):\n",
    "        print(chr(65+j),end = \" \")\n",
    "    print()"
   ]
  },
  {
   "cell_type": "markdown",
   "id": "10b0382f-c34d-4653-8786-530ff214d363",
   "metadata": {},
   "source": [
    "Program to print Half Pryamid using number"
   ]
  },
  {
   "cell_type": "code",
   "execution_count": 3,
   "id": "cc7b7d39-e22d-473b-a44d-de70b6c1e335",
   "metadata": {},
   "outputs": [
    {
     "name": "stdout",
     "output_type": "stream",
     "text": [
      "1 \n",
      "1 2 \n",
      "1 2 3 \n",
      "1 2 3 4 \n",
      "1 2 3 4 5 \n"
     ]
    }
   ],
   "source": [
    "n = 5 \n",
    "for i in range(1,n+1):\n",
    "    for j in range(1,i+1):\n",
    "        print(j,end = \" \")\n",
    "    print()"
   ]
  },
  {
   "cell_type": "code",
   "execution_count": null,
   "id": "aedea2ac-1809-4640-b944-9238bdbf2cf7",
   "metadata": {},
   "outputs": [],
   "source": []
  }
 ],
 "metadata": {
  "kernelspec": {
   "display_name": "Python 3 (ipykernel)",
   "language": "python",
   "name": "python3"
  },
  "language_info": {
   "codemirror_mode": {
    "name": "ipython",
    "version": 3
   },
   "file_extension": ".py",
   "mimetype": "text/x-python",
   "name": "python",
   "nbconvert_exporter": "python",
   "pygments_lexer": "ipython3",
   "version": "3.12.7"
  }
 },
 "nbformat": 4,
 "nbformat_minor": 5
}
